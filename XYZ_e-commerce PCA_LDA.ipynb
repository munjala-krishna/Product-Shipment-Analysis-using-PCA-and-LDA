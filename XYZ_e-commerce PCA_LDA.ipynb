{
 "cells": [
  {
   "cell_type": "markdown",
   "metadata": {},
   "source": [
    "# A) Data Loading and Exploration"
   ]
  },
  {
   "cell_type": "markdown",
   "metadata": {},
   "source": [
    "### 1. Import necessary libraries."
   ]
  },
  {
   "cell_type": "code",
   "execution_count": 261,
   "metadata": {},
   "outputs": [],
   "source": [
    "%matplotlib inline\n",
    "import pandas as pd\n",
    "import numpy as np \n",
    "import matplotlib.pyplot as plt \n",
    "import seaborn as sns\n",
    "\n",
    "from sklearn.model_selection import train_test_split\n",
    "from sklearn.preprocessing import StandardScaler\n",
    "from scipy.stats import zscore\n",
    "\n",
    "from sklearn.decomposition import PCA\n",
    "from sklearn.discriminant_analysis import LinearDiscriminantAnalysis\n",
    "from sklearn.ensemble import RandomForestClassifier\n",
    "\n",
    "from sklearn.metrics import confusion_matrix, accuracy_score"
   ]
  },
  {
   "cell_type": "markdown",
   "metadata": {},
   "source": [
    "### 2. Display a sample of five rows of the data frame."
   ]
  },
  {
   "cell_type": "code",
   "execution_count": 262,
   "metadata": {},
   "outputs": [],
   "source": [
    "sales_df = pd.read_csv(\"sales_data_sample.csv\", sep=\",\", encoding='Latin-1')"
   ]
  },
  {
   "cell_type": "code",
   "execution_count": 263,
   "metadata": {},
   "outputs": [
    {
     "data": {
      "text/html": [
       "<div>\n",
       "<style scoped>\n",
       "    .dataframe tbody tr th:only-of-type {\n",
       "        vertical-align: middle;\n",
       "    }\n",
       "\n",
       "    .dataframe tbody tr th {\n",
       "        vertical-align: top;\n",
       "    }\n",
       "\n",
       "    .dataframe thead th {\n",
       "        text-align: right;\n",
       "    }\n",
       "</style>\n",
       "<table border=\"1\" class=\"dataframe\">\n",
       "  <thead>\n",
       "    <tr style=\"text-align: right;\">\n",
       "      <th></th>\n",
       "      <th>ORDERNUMBER</th>\n",
       "      <th>QUANTITYORDERED</th>\n",
       "      <th>PRICEEACH</th>\n",
       "      <th>ORDERLINENUMBER</th>\n",
       "      <th>SALES</th>\n",
       "      <th>ORDERDATE</th>\n",
       "      <th>STATUS</th>\n",
       "      <th>QTR_ID</th>\n",
       "      <th>MONTH_ID</th>\n",
       "      <th>YEAR_ID</th>\n",
       "      <th>...</th>\n",
       "      <th>ADDRESSLINE1</th>\n",
       "      <th>ADDRESSLINE2</th>\n",
       "      <th>CITY</th>\n",
       "      <th>STATE</th>\n",
       "      <th>POSTALCODE</th>\n",
       "      <th>COUNTRY</th>\n",
       "      <th>TERRITORY</th>\n",
       "      <th>CONTACTLASTNAME</th>\n",
       "      <th>CONTACTFIRSTNAME</th>\n",
       "      <th>DEALSIZE</th>\n",
       "    </tr>\n",
       "  </thead>\n",
       "  <tbody>\n",
       "    <tr>\n",
       "      <th>0</th>\n",
       "      <td>10107</td>\n",
       "      <td>30</td>\n",
       "      <td>95.70</td>\n",
       "      <td>2</td>\n",
       "      <td>2871.00</td>\n",
       "      <td>2/24/2003 0:00</td>\n",
       "      <td>Shipped</td>\n",
       "      <td>1</td>\n",
       "      <td>2</td>\n",
       "      <td>2003</td>\n",
       "      <td>...</td>\n",
       "      <td>897 Long Airport Avenue</td>\n",
       "      <td>NaN</td>\n",
       "      <td>NYC</td>\n",
       "      <td>NY</td>\n",
       "      <td>10022</td>\n",
       "      <td>USA</td>\n",
       "      <td>NaN</td>\n",
       "      <td>Yu</td>\n",
       "      <td>Kwai</td>\n",
       "      <td>Small</td>\n",
       "    </tr>\n",
       "    <tr>\n",
       "      <th>1</th>\n",
       "      <td>10121</td>\n",
       "      <td>34</td>\n",
       "      <td>81.35</td>\n",
       "      <td>5</td>\n",
       "      <td>2765.90</td>\n",
       "      <td>5/7/2003 0:00</td>\n",
       "      <td>Shipped</td>\n",
       "      <td>2</td>\n",
       "      <td>5</td>\n",
       "      <td>2003</td>\n",
       "      <td>...</td>\n",
       "      <td>59 rue de l'Abbaye</td>\n",
       "      <td>NaN</td>\n",
       "      <td>Reims</td>\n",
       "      <td>NaN</td>\n",
       "      <td>51100</td>\n",
       "      <td>France</td>\n",
       "      <td>EMEA</td>\n",
       "      <td>Henriot</td>\n",
       "      <td>Paul</td>\n",
       "      <td>Small</td>\n",
       "    </tr>\n",
       "    <tr>\n",
       "      <th>2</th>\n",
       "      <td>10134</td>\n",
       "      <td>41</td>\n",
       "      <td>94.74</td>\n",
       "      <td>2</td>\n",
       "      <td>3884.34</td>\n",
       "      <td>7/1/2003 0:00</td>\n",
       "      <td>Shipped</td>\n",
       "      <td>3</td>\n",
       "      <td>7</td>\n",
       "      <td>2003</td>\n",
       "      <td>...</td>\n",
       "      <td>27 rue du Colonel Pierre Avia</td>\n",
       "      <td>NaN</td>\n",
       "      <td>Paris</td>\n",
       "      <td>NaN</td>\n",
       "      <td>75508</td>\n",
       "      <td>France</td>\n",
       "      <td>EMEA</td>\n",
       "      <td>Da Cunha</td>\n",
       "      <td>Daniel</td>\n",
       "      <td>Medium</td>\n",
       "    </tr>\n",
       "    <tr>\n",
       "      <th>3</th>\n",
       "      <td>10145</td>\n",
       "      <td>45</td>\n",
       "      <td>83.26</td>\n",
       "      <td>6</td>\n",
       "      <td>3746.70</td>\n",
       "      <td>8/25/2003 0:00</td>\n",
       "      <td>Shipped</td>\n",
       "      <td>3</td>\n",
       "      <td>8</td>\n",
       "      <td>2003</td>\n",
       "      <td>...</td>\n",
       "      <td>78934 Hillside Dr.</td>\n",
       "      <td>NaN</td>\n",
       "      <td>Pasadena</td>\n",
       "      <td>CA</td>\n",
       "      <td>90003</td>\n",
       "      <td>USA</td>\n",
       "      <td>NaN</td>\n",
       "      <td>Young</td>\n",
       "      <td>Julie</td>\n",
       "      <td>Medium</td>\n",
       "    </tr>\n",
       "    <tr>\n",
       "      <th>4</th>\n",
       "      <td>10159</td>\n",
       "      <td>49</td>\n",
       "      <td>100.00</td>\n",
       "      <td>14</td>\n",
       "      <td>5205.27</td>\n",
       "      <td>10/10/2003 0:00</td>\n",
       "      <td>Shipped</td>\n",
       "      <td>4</td>\n",
       "      <td>10</td>\n",
       "      <td>2003</td>\n",
       "      <td>...</td>\n",
       "      <td>7734 Strong St.</td>\n",
       "      <td>NaN</td>\n",
       "      <td>San Francisco</td>\n",
       "      <td>CA</td>\n",
       "      <td>NaN</td>\n",
       "      <td>USA</td>\n",
       "      <td>NaN</td>\n",
       "      <td>Brown</td>\n",
       "      <td>Julie</td>\n",
       "      <td>Medium</td>\n",
       "    </tr>\n",
       "  </tbody>\n",
       "</table>\n",
       "<p>5 rows × 25 columns</p>\n",
       "</div>"
      ],
      "text/plain": [
       "   ORDERNUMBER  QUANTITYORDERED  PRICEEACH  ORDERLINENUMBER    SALES  \\\n",
       "0        10107               30      95.70                2  2871.00   \n",
       "1        10121               34      81.35                5  2765.90   \n",
       "2        10134               41      94.74                2  3884.34   \n",
       "3        10145               45      83.26                6  3746.70   \n",
       "4        10159               49     100.00               14  5205.27   \n",
       "\n",
       "         ORDERDATE   STATUS  QTR_ID  MONTH_ID  YEAR_ID  ...  \\\n",
       "0   2/24/2003 0:00  Shipped       1         2     2003  ...   \n",
       "1    5/7/2003 0:00  Shipped       2         5     2003  ...   \n",
       "2    7/1/2003 0:00  Shipped       3         7     2003  ...   \n",
       "3   8/25/2003 0:00  Shipped       3         8     2003  ...   \n",
       "4  10/10/2003 0:00  Shipped       4        10     2003  ...   \n",
       "\n",
       "                    ADDRESSLINE1  ADDRESSLINE2           CITY STATE  \\\n",
       "0        897 Long Airport Avenue           NaN            NYC    NY   \n",
       "1             59 rue de l'Abbaye           NaN          Reims   NaN   \n",
       "2  27 rue du Colonel Pierre Avia           NaN          Paris   NaN   \n",
       "3             78934 Hillside Dr.           NaN       Pasadena    CA   \n",
       "4                7734 Strong St.           NaN  San Francisco    CA   \n",
       "\n",
       "  POSTALCODE COUNTRY TERRITORY CONTACTLASTNAME CONTACTFIRSTNAME DEALSIZE  \n",
       "0      10022     USA       NaN              Yu             Kwai    Small  \n",
       "1      51100  France      EMEA         Henriot             Paul    Small  \n",
       "2      75508  France      EMEA        Da Cunha           Daniel   Medium  \n",
       "3      90003     USA       NaN           Young            Julie   Medium  \n",
       "4        NaN     USA       NaN           Brown            Julie   Medium  \n",
       "\n",
       "[5 rows x 25 columns]"
      ]
     },
     "execution_count": 263,
     "metadata": {},
     "output_type": "execute_result"
    }
   ],
   "source": [
    "sales_df.head(5)"
   ]
  },
  {
   "cell_type": "markdown",
   "metadata": {},
   "source": [
    "### 3. Check the shape of the data (number of rows and columns). Check the general information about the dataframe using the .info() method.\n"
   ]
  },
  {
   "cell_type": "code",
   "execution_count": 264,
   "metadata": {},
   "outputs": [
    {
     "data": {
      "text/plain": [
       "(2823, 25)"
      ]
     },
     "execution_count": 264,
     "metadata": {},
     "output_type": "execute_result"
    }
   ],
   "source": [
    "sales_df.shape"
   ]
  },
  {
   "cell_type": "code",
   "execution_count": 265,
   "metadata": {},
   "outputs": [
    {
     "name": "stdout",
     "output_type": "stream",
     "text": [
      "<class 'pandas.core.frame.DataFrame'>\n",
      "RangeIndex: 2823 entries, 0 to 2822\n",
      "Data columns (total 25 columns):\n",
      " #   Column            Non-Null Count  Dtype  \n",
      "---  ------            --------------  -----  \n",
      " 0   ORDERNUMBER       2823 non-null   int64  \n",
      " 1   QUANTITYORDERED   2823 non-null   int64  \n",
      " 2   PRICEEACH         2823 non-null   float64\n",
      " 3   ORDERLINENUMBER   2823 non-null   int64  \n",
      " 4   SALES             2823 non-null   float64\n",
      " 5   ORDERDATE         2823 non-null   object \n",
      " 6   STATUS            2823 non-null   object \n",
      " 7   QTR_ID            2823 non-null   int64  \n",
      " 8   MONTH_ID          2823 non-null   int64  \n",
      " 9   YEAR_ID           2823 non-null   int64  \n",
      " 10  PRODUCTLINE       2823 non-null   object \n",
      " 11  MSRP              2823 non-null   int64  \n",
      " 12  PRODUCTCODE       2823 non-null   object \n",
      " 13  CUSTOMERNAME      2823 non-null   object \n",
      " 14  PHONE             2823 non-null   object \n",
      " 15  ADDRESSLINE1      2823 non-null   object \n",
      " 16  ADDRESSLINE2      302 non-null    object \n",
      " 17  CITY              2823 non-null   object \n",
      " 18  STATE             1337 non-null   object \n",
      " 19  POSTALCODE        2747 non-null   object \n",
      " 20  COUNTRY           2823 non-null   object \n",
      " 21  TERRITORY         1749 non-null   object \n",
      " 22  CONTACTLASTNAME   2823 non-null   object \n",
      " 23  CONTACTFIRSTNAME  2823 non-null   object \n",
      " 24  DEALSIZE          2823 non-null   object \n",
      "dtypes: float64(2), int64(7), object(16)\n",
      "memory usage: 551.5+ KB\n"
     ]
    }
   ],
   "source": [
    "sales_df.info()"
   ]
  },
  {
   "cell_type": "markdown",
   "metadata": {},
   "source": [
    "### 4. Check the percentage of missing values in each column of the data frame.\n"
   ]
  },
  {
   "cell_type": "code",
   "execution_count": 266,
   "metadata": {},
   "outputs": [
    {
     "data": {
      "text/plain": [
       "ORDERNUMBER         0.000000\n",
       "QUANTITYORDERED     0.000000\n",
       "PRICEEACH           0.000000\n",
       "ORDERLINENUMBER     0.000000\n",
       "SALES               0.000000\n",
       "ORDERDATE           0.000000\n",
       "STATUS              0.000000\n",
       "QTR_ID              0.000000\n",
       "MONTH_ID            0.000000\n",
       "YEAR_ID             0.000000\n",
       "PRODUCTLINE         0.000000\n",
       "MSRP                0.000000\n",
       "PRODUCTCODE         0.000000\n",
       "CUSTOMERNAME        0.000000\n",
       "PHONE               0.000000\n",
       "ADDRESSLINE1        0.000000\n",
       "ADDRESSLINE2        0.893022\n",
       "CITY                0.000000\n",
       "STATE               0.526390\n",
       "POSTALCODE          0.026922\n",
       "COUNTRY             0.000000\n",
       "TERRITORY           0.380446\n",
       "CONTACTLASTNAME     0.000000\n",
       "CONTACTFIRSTNAME    0.000000\n",
       "DEALSIZE            0.000000\n",
       "dtype: float64"
      ]
     },
     "execution_count": 266,
     "metadata": {},
     "output_type": "execute_result"
    }
   ],
   "source": [
    "sales_df.isnull().sum()/len(sales_df)"
   ]
  },
  {
   "cell_type": "markdown",
   "metadata": {},
   "source": [
    "*Four columns ADDRESSLINE2, STATE, POSTALCODE, TERRITORY has missing values.*"
   ]
  },
  {
   "cell_type": "markdown",
   "metadata": {},
   "source": [
    "### 5. Check if there are any duplicate rows."
   ]
  },
  {
   "cell_type": "code",
   "execution_count": 267,
   "metadata": {},
   "outputs": [
    {
     "data": {
      "text/plain": [
       "0"
      ]
     },
     "execution_count": 267,
     "metadata": {},
     "output_type": "execute_result"
    }
   ],
   "source": [
    "sales_df.duplicated().sum()"
   ]
  },
  {
   "cell_type": "markdown",
   "metadata": {},
   "source": [
    "*There are no duplicate rows in the dataset*"
   ]
  },
  {
   "cell_type": "markdown",
   "metadata": {},
   "source": [
    "### 6. Write a function that will impute missing values of the columns “STATE”,“POSTALCODE”,“TERRITORY” with its most occurring label."
   ]
  },
  {
   "cell_type": "code",
   "execution_count": 268,
   "metadata": {},
   "outputs": [],
   "source": [
    "sales_df['STATE'] = sales_df['STATE'].fillna(sales_df['STATE'].mode()[0])\n",
    "sales_df['POSTALCODE'] = sales_df['POSTALCODE'].fillna(sales_df['POSTALCODE'].mode()[0])\n",
    "sales_df['TERRITORY'] = sales_df['TERRITORY'].fillna(sales_df['TERRITORY'].mode()[0])"
   ]
  },
  {
   "cell_type": "code",
   "execution_count": 269,
   "metadata": {},
   "outputs": [
    {
     "data": {
      "text/plain": [
       "STATE         0\n",
       "POSTALCODE    0\n",
       "TERRITORY     0\n",
       "dtype: int64"
      ]
     },
     "execution_count": 269,
     "metadata": {},
     "output_type": "execute_result"
    }
   ],
   "source": [
    "sales_df[['STATE', 'POSTALCODE', 'TERRITORY']].isnull().sum()"
   ]
  },
  {
   "cell_type": "markdown",
   "metadata": {},
   "source": [
    "*Hence we successfully imputed the missing values in STATE, POSTALCODE and TERRITORY columns with their most occuring label*"
   ]
  },
  {
   "cell_type": "markdown",
   "metadata": {},
   "source": [
    "### 7. Drop “ADDRESSLINE2”,”ORDERDATE”,”PHONE” column."
   ]
  },
  {
   "cell_type": "code",
   "execution_count": 270,
   "metadata": {},
   "outputs": [],
   "source": [
    "sales_df = sales_df.drop(['ADDRESSLINE2', 'ORDERDATE', 'PHONE'], axis = 1)"
   ]
  },
  {
   "cell_type": "code",
   "execution_count": 271,
   "metadata": {},
   "outputs": [
    {
     "data": {
      "text/plain": [
       "Index(['ORDERNUMBER', 'QUANTITYORDERED', 'PRICEEACH', 'ORDERLINENUMBER',\n",
       "       'SALES', 'STATUS', 'QTR_ID', 'MONTH_ID', 'YEAR_ID', 'PRODUCTLINE',\n",
       "       'MSRP', 'PRODUCTCODE', 'CUSTOMERNAME', 'ADDRESSLINE1', 'CITY', 'STATE',\n",
       "       'POSTALCODE', 'COUNTRY', 'TERRITORY', 'CONTACTLASTNAME',\n",
       "       'CONTACTFIRSTNAME', 'DEALSIZE'],\n",
       "      dtype='object')"
      ]
     },
     "execution_count": 271,
     "metadata": {},
     "output_type": "execute_result"
    }
   ],
   "source": [
    "sales_df.columns"
   ]
  },
  {
   "cell_type": "markdown",
   "metadata": {},
   "source": [
    "*Hence we dropped the columns ADDRESSLINE2, ORDERDATE and PHONE from the dataframe.*"
   ]
  },
  {
   "cell_type": "markdown",
   "metadata": {},
   "source": [
    "### 8. Convert the labels of the STATUS column to 0 and 1. For Shipped assign value 1 and for all other labels (i.e. ‘Canceled’,’ Resolved’,’ On Hold’,’ InProcess’, 'Disputed') assign 0."
   ]
  },
  {
   "cell_type": "code",
   "execution_count": 272,
   "metadata": {},
   "outputs": [
    {
     "data": {
      "text/plain": [
       "STATUS\n",
       "Shipped       2617\n",
       "Cancelled       60\n",
       "Resolved        47\n",
       "On Hold         44\n",
       "In Process      41\n",
       "Disputed        14\n",
       "Name: count, dtype: int64"
      ]
     },
     "execution_count": 272,
     "metadata": {},
     "output_type": "execute_result"
    }
   ],
   "source": [
    "sales_df['STATUS'].value_counts()"
   ]
  },
  {
   "cell_type": "code",
   "execution_count": 273,
   "metadata": {},
   "outputs": [],
   "source": [
    "sales_df['STATUS'].replace(to_replace = 'Shipped', value = '1', inplace = True)\n",
    "sales_df['STATUS'].replace(to_replace = ['Cancelled', 'Resolved', 'On Hold', 'In Process', 'Disputed'], value = '0', inplace= True)"
   ]
  },
  {
   "cell_type": "code",
   "execution_count": 274,
   "metadata": {},
   "outputs": [
    {
     "data": {
      "text/plain": [
       "STATUS\n",
       "1    2617\n",
       "0     206\n",
       "Name: count, dtype: int64"
      ]
     },
     "execution_count": 274,
     "metadata": {},
     "output_type": "execute_result"
    }
   ],
   "source": [
    "sales_df['STATUS'].value_counts()"
   ]
  },
  {
   "cell_type": "markdown",
   "metadata": {},
   "source": [
    "*Hence we made the necessary conversion of STATUS column labels to 1's and 0's as mentioned*"
   ]
  },
  {
   "cell_type": "markdown",
   "metadata": {},
   "source": [
    "### 9. Assign ‘STATUS’ column into a label variable and drop it from the original Dataframe. Convert the original dataframe to the dummy coded data."
   ]
  },
  {
   "cell_type": "code",
   "execution_count": 275,
   "metadata": {},
   "outputs": [
    {
     "data": {
      "text/html": [
       "<div>\n",
       "<style scoped>\n",
       "    .dataframe tbody tr th:only-of-type {\n",
       "        vertical-align: middle;\n",
       "    }\n",
       "\n",
       "    .dataframe tbody tr th {\n",
       "        vertical-align: top;\n",
       "    }\n",
       "\n",
       "    .dataframe thead th {\n",
       "        text-align: right;\n",
       "    }\n",
       "</style>\n",
       "<table border=\"1\" class=\"dataframe\">\n",
       "  <thead>\n",
       "    <tr style=\"text-align: right;\">\n",
       "      <th></th>\n",
       "      <th>ORDERNUMBER</th>\n",
       "      <th>QUANTITYORDERED</th>\n",
       "      <th>PRICEEACH</th>\n",
       "      <th>ORDERLINENUMBER</th>\n",
       "      <th>SALES</th>\n",
       "      <th>STATUS</th>\n",
       "      <th>QTR_ID</th>\n",
       "      <th>MONTH_ID</th>\n",
       "      <th>YEAR_ID</th>\n",
       "      <th>PRODUCTLINE</th>\n",
       "      <th>...</th>\n",
       "      <th>CUSTOMERNAME</th>\n",
       "      <th>ADDRESSLINE1</th>\n",
       "      <th>CITY</th>\n",
       "      <th>STATE</th>\n",
       "      <th>POSTALCODE</th>\n",
       "      <th>COUNTRY</th>\n",
       "      <th>TERRITORY</th>\n",
       "      <th>CONTACTLASTNAME</th>\n",
       "      <th>CONTACTFIRSTNAME</th>\n",
       "      <th>DEALSIZE</th>\n",
       "    </tr>\n",
       "  </thead>\n",
       "  <tbody>\n",
       "    <tr>\n",
       "      <th>0</th>\n",
       "      <td>10107</td>\n",
       "      <td>30</td>\n",
       "      <td>95.70</td>\n",
       "      <td>2</td>\n",
       "      <td>2871.0</td>\n",
       "      <td>1</td>\n",
       "      <td>1</td>\n",
       "      <td>2</td>\n",
       "      <td>2003</td>\n",
       "      <td>Motorcycles</td>\n",
       "      <td>...</td>\n",
       "      <td>Land of Toys Inc.</td>\n",
       "      <td>897 Long Airport Avenue</td>\n",
       "      <td>NYC</td>\n",
       "      <td>NY</td>\n",
       "      <td>10022</td>\n",
       "      <td>USA</td>\n",
       "      <td>EMEA</td>\n",
       "      <td>Yu</td>\n",
       "      <td>Kwai</td>\n",
       "      <td>Small</td>\n",
       "    </tr>\n",
       "    <tr>\n",
       "      <th>1</th>\n",
       "      <td>10121</td>\n",
       "      <td>34</td>\n",
       "      <td>81.35</td>\n",
       "      <td>5</td>\n",
       "      <td>2765.9</td>\n",
       "      <td>1</td>\n",
       "      <td>2</td>\n",
       "      <td>5</td>\n",
       "      <td>2003</td>\n",
       "      <td>Motorcycles</td>\n",
       "      <td>...</td>\n",
       "      <td>Reims Collectables</td>\n",
       "      <td>59 rue de l'Abbaye</td>\n",
       "      <td>Reims</td>\n",
       "      <td>CA</td>\n",
       "      <td>51100</td>\n",
       "      <td>France</td>\n",
       "      <td>EMEA</td>\n",
       "      <td>Henriot</td>\n",
       "      <td>Paul</td>\n",
       "      <td>Small</td>\n",
       "    </tr>\n",
       "  </tbody>\n",
       "</table>\n",
       "<p>2 rows × 22 columns</p>\n",
       "</div>"
      ],
      "text/plain": [
       "   ORDERNUMBER  QUANTITYORDERED  PRICEEACH  ORDERLINENUMBER   SALES STATUS  \\\n",
       "0        10107               30      95.70                2  2871.0      1   \n",
       "1        10121               34      81.35                5  2765.9      1   \n",
       "\n",
       "   QTR_ID  MONTH_ID  YEAR_ID  PRODUCTLINE  ...        CUSTOMERNAME  \\\n",
       "0       1         2     2003  Motorcycles  ...   Land of Toys Inc.   \n",
       "1       2         5     2003  Motorcycles  ...  Reims Collectables   \n",
       "\n",
       "              ADDRESSLINE1   CITY STATE POSTALCODE COUNTRY TERRITORY  \\\n",
       "0  897 Long Airport Avenue    NYC    NY      10022     USA      EMEA   \n",
       "1       59 rue de l'Abbaye  Reims    CA      51100  France      EMEA   \n",
       "\n",
       "  CONTACTLASTNAME CONTACTFIRSTNAME DEALSIZE  \n",
       "0              Yu             Kwai    Small  \n",
       "1         Henriot             Paul    Small  \n",
       "\n",
       "[2 rows x 22 columns]"
      ]
     },
     "execution_count": 275,
     "metadata": {},
     "output_type": "execute_result"
    }
   ],
   "source": [
    "sales_df.head(2)"
   ]
  },
  {
   "cell_type": "code",
   "execution_count": 276,
   "metadata": {},
   "outputs": [],
   "source": [
    "# Assigning target column STATUS to y and remaining columns as x\n",
    "y = sales_df['STATUS']\n",
    "x = sales_df.drop(['STATUS'], axis=1)"
   ]
  },
  {
   "cell_type": "code",
   "execution_count": 277,
   "metadata": {},
   "outputs": [
    {
     "name": "stdout",
     "output_type": "stream",
     "text": [
      "(2823,)\n",
      "(2823, 21)\n"
     ]
    }
   ],
   "source": [
    "print(y.shape)\n",
    "print(x.shape)"
   ]
  },
  {
   "cell_type": "code",
   "execution_count": 278,
   "metadata": {},
   "outputs": [],
   "source": [
    "#Converting the original data into dummy encoded data\n",
    "x_dum = pd.get_dummies(x)"
   ]
  },
  {
   "cell_type": "code",
   "execution_count": 279,
   "metadata": {},
   "outputs": [
    {
     "data": {
      "text/html": [
       "<div>\n",
       "<style scoped>\n",
       "    .dataframe tbody tr th:only-of-type {\n",
       "        vertical-align: middle;\n",
       "    }\n",
       "\n",
       "    .dataframe tbody tr th {\n",
       "        vertical-align: top;\n",
       "    }\n",
       "\n",
       "    .dataframe thead th {\n",
       "        text-align: right;\n",
       "    }\n",
       "</style>\n",
       "<table border=\"1\" class=\"dataframe\">\n",
       "  <thead>\n",
       "    <tr style=\"text-align: right;\">\n",
       "      <th></th>\n",
       "      <th>ORDERNUMBER</th>\n",
       "      <th>QUANTITYORDERED</th>\n",
       "      <th>PRICEEACH</th>\n",
       "      <th>ORDERLINENUMBER</th>\n",
       "      <th>SALES</th>\n",
       "      <th>QTR_ID</th>\n",
       "      <th>MONTH_ID</th>\n",
       "      <th>YEAR_ID</th>\n",
       "      <th>MSRP</th>\n",
       "      <th>PRODUCTLINE_Classic Cars</th>\n",
       "      <th>...</th>\n",
       "      <th>CONTACTFIRSTNAME_Veysel</th>\n",
       "      <th>CONTACTFIRSTNAME_Victoria</th>\n",
       "      <th>CONTACTFIRSTNAME_Violeta</th>\n",
       "      <th>CONTACTFIRSTNAME_Wendy</th>\n",
       "      <th>CONTACTFIRSTNAME_William</th>\n",
       "      <th>CONTACTFIRSTNAME_Wing C</th>\n",
       "      <th>CONTACTFIRSTNAME_Yoshi</th>\n",
       "      <th>DEALSIZE_Large</th>\n",
       "      <th>DEALSIZE_Medium</th>\n",
       "      <th>DEALSIZE_Small</th>\n",
       "    </tr>\n",
       "  </thead>\n",
       "  <tbody>\n",
       "    <tr>\n",
       "      <th>0</th>\n",
       "      <td>10107</td>\n",
       "      <td>30</td>\n",
       "      <td>95.70</td>\n",
       "      <td>2</td>\n",
       "      <td>2871.0</td>\n",
       "      <td>1</td>\n",
       "      <td>2</td>\n",
       "      <td>2003</td>\n",
       "      <td>95</td>\n",
       "      <td>False</td>\n",
       "      <td>...</td>\n",
       "      <td>False</td>\n",
       "      <td>False</td>\n",
       "      <td>False</td>\n",
       "      <td>False</td>\n",
       "      <td>False</td>\n",
       "      <td>False</td>\n",
       "      <td>False</td>\n",
       "      <td>False</td>\n",
       "      <td>False</td>\n",
       "      <td>True</td>\n",
       "    </tr>\n",
       "    <tr>\n",
       "      <th>1</th>\n",
       "      <td>10121</td>\n",
       "      <td>34</td>\n",
       "      <td>81.35</td>\n",
       "      <td>5</td>\n",
       "      <td>2765.9</td>\n",
       "      <td>2</td>\n",
       "      <td>5</td>\n",
       "      <td>2003</td>\n",
       "      <td>95</td>\n",
       "      <td>False</td>\n",
       "      <td>...</td>\n",
       "      <td>False</td>\n",
       "      <td>False</td>\n",
       "      <td>False</td>\n",
       "      <td>False</td>\n",
       "      <td>False</td>\n",
       "      <td>False</td>\n",
       "      <td>False</td>\n",
       "      <td>False</td>\n",
       "      <td>False</td>\n",
       "      <td>True</td>\n",
       "    </tr>\n",
       "  </tbody>\n",
       "</table>\n",
       "<p>2 rows × 645 columns</p>\n",
       "</div>"
      ],
      "text/plain": [
       "   ORDERNUMBER  QUANTITYORDERED  PRICEEACH  ORDERLINENUMBER   SALES  QTR_ID  \\\n",
       "0        10107               30      95.70                2  2871.0       1   \n",
       "1        10121               34      81.35                5  2765.9       2   \n",
       "\n",
       "   MONTH_ID  YEAR_ID  MSRP  PRODUCTLINE_Classic Cars  ...  \\\n",
       "0         2     2003    95                     False  ...   \n",
       "1         5     2003    95                     False  ...   \n",
       "\n",
       "   CONTACTFIRSTNAME_Veysel  CONTACTFIRSTNAME_Victoria  \\\n",
       "0                    False                      False   \n",
       "1                    False                      False   \n",
       "\n",
       "   CONTACTFIRSTNAME_Violeta  CONTACTFIRSTNAME_Wendy  CONTACTFIRSTNAME_William  \\\n",
       "0                     False                   False                     False   \n",
       "1                     False                   False                     False   \n",
       "\n",
       "   CONTACTFIRSTNAME_Wing C  CONTACTFIRSTNAME_Yoshi  DEALSIZE_Large  \\\n",
       "0                    False                   False           False   \n",
       "1                    False                   False           False   \n",
       "\n",
       "   DEALSIZE_Medium  DEALSIZE_Small  \n",
       "0            False            True  \n",
       "1            False            True  \n",
       "\n",
       "[2 rows x 645 columns]"
      ]
     },
     "execution_count": 279,
     "metadata": {},
     "output_type": "execute_result"
    }
   ],
   "source": [
    "x_dum.head(2)"
   ]
  },
  {
   "cell_type": "code",
   "execution_count": 280,
   "metadata": {},
   "outputs": [
    {
     "data": {
      "text/plain": [
       "(2823, 645)"
      ]
     },
     "execution_count": 280,
     "metadata": {},
     "output_type": "execute_result"
    }
   ],
   "source": [
    "x_dum.shape"
   ]
  },
  {
   "cell_type": "markdown",
   "metadata": {},
   "source": [
    "### 10. Use StandardScaler to scale the data."
   ]
  },
  {
   "cell_type": "code",
   "execution_count": 281,
   "metadata": {},
   "outputs": [],
   "source": [
    "sc = StandardScaler()\n",
    "x_dum_std = sc.fit_transform(x_dum)"
   ]
  },
  {
   "cell_type": "code",
   "execution_count": 282,
   "metadata": {},
   "outputs": [
    {
     "data": {
      "text/plain": [
       "array([[-1.64794709, -0.52289086,  0.5969775 , ..., -0.24267205,\n",
       "        -0.98070333,  1.09637041],\n",
       "       [-1.4958875 , -0.11220131, -0.11445035, ..., -0.24267205,\n",
       "        -0.98070333,  1.09637041],\n",
       "       [-1.35468931,  0.60650538,  0.54938372, ..., -0.24267205,\n",
       "         1.01967636, -0.9121005 ],\n",
       "       ...,\n",
       "       [ 1.38238338,  0.81185016,  0.81015797, ..., -0.24267205,\n",
       "         1.01967636, -0.9121005 ],\n",
       "       [ 1.50185877, -0.11220131, -1.06186404, ..., -0.24267205,\n",
       "        -0.98070333,  1.09637041],\n",
       "       [ 1.68650256,  1.2225397 , -0.89925195, ..., -0.24267205,\n",
       "         1.01967636, -0.9121005 ]])"
      ]
     },
     "execution_count": 282,
     "metadata": {},
     "output_type": "execute_result"
    }
   ],
   "source": [
    "x_dum_std"
   ]
  },
  {
   "cell_type": "markdown",
   "metadata": {},
   "source": [
    "# B) PCA FOR VISUALIZATION"
   ]
  },
  {
   "cell_type": "markdown",
   "metadata": {},
   "source": [
    "### 1. Take the help of PCA to reduce the data to 2 dimensions. Use n_components=2."
   ]
  },
  {
   "cell_type": "code",
   "execution_count": 283,
   "metadata": {},
   "outputs": [],
   "source": [
    "# converting the data in to 2 dimension using PCA\n",
    "pca_sales = PCA(n_components = 2)\n",
    "principalComponents_sales = pca_sales.fit_transform(x_dum_std)"
   ]
  },
  {
   "cell_type": "code",
   "execution_count": 284,
   "metadata": {},
   "outputs": [
    {
     "data": {
      "text/plain": [
       "array([[-0.73493131, -1.04877978],\n",
       "       [-1.52184672,  1.55632939],\n",
       "       [-1.65374798,  0.21603074],\n",
       "       ...,\n",
       "       [-1.63633061,  0.74507083],\n",
       "       [-0.82367783,  0.39217466],\n",
       "       [-0.97361542, -2.25937317]])"
      ]
     },
     "execution_count": 284,
     "metadata": {},
     "output_type": "execute_result"
    }
   ],
   "source": [
    "# output of PCA, data converted into 2 dimensions\n",
    "principalComponents_sales"
   ]
  },
  {
   "cell_type": "code",
   "execution_count": 285,
   "metadata": {},
   "outputs": [
    {
     "data": {
      "text/html": [
       "<div>\n",
       "<style scoped>\n",
       "    .dataframe tbody tr th:only-of-type {\n",
       "        vertical-align: middle;\n",
       "    }\n",
       "\n",
       "    .dataframe tbody tr th {\n",
       "        vertical-align: top;\n",
       "    }\n",
       "\n",
       "    .dataframe thead th {\n",
       "        text-align: right;\n",
       "    }\n",
       "</style>\n",
       "<table border=\"1\" class=\"dataframe\">\n",
       "  <thead>\n",
       "    <tr style=\"text-align: right;\">\n",
       "      <th></th>\n",
       "      <th>principal component 1</th>\n",
       "      <th>principal component 2</th>\n",
       "    </tr>\n",
       "  </thead>\n",
       "  <tbody>\n",
       "    <tr>\n",
       "      <th>0</th>\n",
       "      <td>-0.734931</td>\n",
       "      <td>-1.048780</td>\n",
       "    </tr>\n",
       "    <tr>\n",
       "      <th>1</th>\n",
       "      <td>-1.521847</td>\n",
       "      <td>1.556329</td>\n",
       "    </tr>\n",
       "  </tbody>\n",
       "</table>\n",
       "</div>"
      ],
      "text/plain": [
       "   principal component 1  principal component 2\n",
       "0              -0.734931              -1.048780\n",
       "1              -1.521847               1.556329"
      ]
     },
     "execution_count": 285,
     "metadata": {},
     "output_type": "execute_result"
    }
   ],
   "source": [
    "# Creating a DataFrame with principal component values for all the samples\n",
    "pricipal_sales_df = pd.DataFrame(data = principalComponents_sales, \n",
    "                                 columns = ['principal component 1', 'principal component 2'])\n",
    "\n",
    "pricipal_sales_df.head(2)"
   ]
  },
  {
   "cell_type": "markdown",
   "metadata": {},
   "source": [
    "### 2. Take the first and second principal components and plot a scatter plot with the labels."
   ]
  },
  {
   "cell_type": "code",
   "execution_count": 286,
   "metadata": {},
   "outputs": [
    {
     "data": {
      "image/png": "[encoded data removed]",
      "text/plain": [
       "<Figure size 640x480 with 1 Axes>"
      ]
     },
     "metadata": {},
     "output_type": "display_data"
    }
   ],
   "source": [
    "plt.scatter(pricipal_sales_df['principal component 1'], pricipal_sales_df['principal component 2'])\n",
    "plt.xlabel('pricipal component 1')\n",
    "plt.ylabel('principal component 2')\n",
    "plt.title('Scatter Plot between the two Pricipal Components')\n",
    "plt.show()"
   ]
  },
  {
   "cell_type": "markdown",
   "metadata": {},
   "source": [
    "### 3. Write the intuitions about the scatter plot."
   ]
  },
  {
   "cell_type": "markdown",
   "metadata": {},
   "source": [
    "*From the above scatter plot we can conclude that the two created Principal Componets are uncorrelated.\n",
    "Hence we are able to convert very high dimensional space to 2 uncorrelated features in the low dimensional space*"
   ]
  },
  {
   "cell_type": "markdown",
   "metadata": {},
   "source": [
    "# C) PCA FOR DIMENSION REDUCTION."
   ]
  },
  {
   "cell_type": "markdown",
   "metadata": {},
   "source": [
    "### 1. Fit the PCA model on the data and plot a graph between n_components and cumulative explained variance."
   ]
  },
  {
   "cell_type": "code",
   "execution_count": 287,
   "metadata": {},
   "outputs": [
    {
     "data": {
      "text/html": [
       "<style>#sk-container-id-3 {color: black;}#sk-container-id-3 pre{padding: 0;}#sk-container-id-3 div.sk-toggleable {background-color: white;}#sk-container-id-3 label.sk-toggleable__label {cursor: pointer;display: block;width: 100%;margin-bottom: 0;padding: 0.3em;box-sizing: border-box;text-align: center;}#sk-container-id-3 label.sk-toggleable__label-arrow:before {content: \"▸\";float: left;margin-right: 0.25em;color: #696969;}#sk-container-id-3 label.sk-toggleable__label-arrow:hover:before {color: black;}#sk-container-id-3 div.sk-estimator:hover label.sk-toggleable__label-arrow:before {color: black;}#sk-container-id-3 div.sk-toggleable__content {max-height: 0;max-width: 0;overflow: hidden;text-align: left;background-color: #f0f8ff;}#sk-container-id-3 div.sk-toggleable__content pre {margin: 0.2em;color: black;border-radius: 0.25em;background-color: #f0f8ff;}#sk-container-id-3 input.sk-toggleable__control:checked~div.sk-toggleable__content {max-height: 200px;max-width: 100%;overflow: auto;}#sk-container-id-3 input.sk-toggleable__control:checked~label.sk-toggleable__label-arrow:before {content: \"▾\";}#sk-container-id-3 div.sk-estimator input.sk-toggleable__control:checked~label.sk-toggleable__label {background-color: #d4ebff;}#sk-container-id-3 div.sk-label input.sk-toggleable__control:checked~label.sk-toggleable__label {background-color: #d4ebff;}#sk-container-id-3 input.sk-hidden--visually {border: 0;clip: rect(1px 1px 1px 1px);clip: rect(1px, 1px, 1px, 1px);height: 1px;margin: -1px;overflow: hidden;padding: 0;position: absolute;width: 1px;}#sk-container-id-3 div.sk-estimator {font-family: monospace;background-color: #f0f8ff;border: 1px dotted black;border-radius: 0.25em;box-sizing: border-box;margin-bottom: 0.5em;}#sk-container-id-3 div.sk-estimator:hover {background-color: #d4ebff;}#sk-container-id-3 div.sk-parallel-item::after {content: \"\";width: 100%;border-bottom: 1px solid gray;flex-grow: 1;}#sk-container-id-3 div.sk-label:hover label.sk-toggleable__label {background-color: #d4ebff;}#sk-container-id-3 div.sk-serial::before {content: \"\";position: absolute;border-left: 1px solid gray;box-sizing: border-box;top: 0;bottom: 0;left: 50%;z-index: 0;}#sk-container-id-3 div.sk-serial {display: flex;flex-direction: column;align-items: center;background-color: white;padding-right: 0.2em;padding-left: 0.2em;position: relative;}#sk-container-id-3 div.sk-item {position: relative;z-index: 1;}#sk-container-id-3 div.sk-parallel {display: flex;align-items: stretch;justify-content: center;background-color: white;position: relative;}#sk-container-id-3 div.sk-item::before, #sk-container-id-3 div.sk-parallel-item::before {content: \"\";position: absolute;border-left: 1px solid gray;box-sizing: border-box;top: 0;bottom: 0;left: 50%;z-index: -1;}#sk-container-id-3 div.sk-parallel-item {display: flex;flex-direction: column;z-index: 1;position: relative;background-color: white;}#sk-container-id-3 div.sk-parallel-item:first-child::after {align-self: flex-end;width: 50%;}#sk-container-id-3 div.sk-parallel-item:last-child::after {align-self: flex-start;width: 50%;}#sk-container-id-3 div.sk-parallel-item:only-child::after {width: 0;}#sk-container-id-3 div.sk-dashed-wrapped {border: 1px dashed gray;margin: 0 0.4em 0.5em 0.4em;box-sizing: border-box;padding-bottom: 0.4em;background-color: white;}#sk-container-id-3 div.sk-label label {font-family: monospace;font-weight: bold;display: inline-block;line-height: 1.2em;}#sk-container-id-3 div.sk-label-container {text-align: center;}#sk-container-id-3 div.sk-container {/* jupyter's `normalize.less` sets `[hidden] { display: none; }` but bootstrap.min.css set `[hidden] { display: none !important; }` so we also need the `!important` here to be able to override the default hidden behavior on the sphinx rendered scikit-learn.org. See: https://github.com/scikit-learn/scikit-learn/issues/21755 */display: inline-block !important;position: relative;}#sk-container-id-3 div.sk-text-repr-fallback {display: none;}</style><div id=\"sk-container-id-3\" class=\"sk-top-container\"><div class=\"sk-text-repr-fallback\"><pre>PCA()</pre><b>In a Jupyter environment, please rerun this cell to show the HTML representation or trust the notebook. <br />On GitHub, the HTML representation is unable to render, please try loading this page with nbviewer.org.</b></div><div class=\"sk-container\" hidden><div class=\"sk-item\"><div class=\"sk-estimator sk-toggleable\"><input class=\"sk-toggleable__control sk-hidden--visually\" id=\"sk-estimator-id-3\" type=\"checkbox\" checked><label for=\"sk-estimator-id-3\" class=\"sk-toggleable__label sk-toggleable__label-arrow\">PCA</label><div class=\"sk-toggleable__content\"><pre>PCA()</pre></div></div></div></div></div>"
      ],
      "text/plain": [
       "PCA()"
      ]
     },
     "execution_count": 287,
     "metadata": {},
     "output_type": "execute_result"
    }
   ],
   "source": [
    "# fitting the PCA model on n_components\n",
    "pca_n = PCA()\n",
    "pca_n.fit(x_dum_std)"
   ]
  },
  {
   "cell_type": "code",
   "execution_count": 288,
   "metadata": {},
   "outputs": [
    {
     "data": {
      "text/plain": [
       "array([1.56555784e-02, 1.37971180e-02, 1.31614833e-02, 1.25638313e-02,\n",
       "       1.19716767e-02, 1.17872831e-02, 1.16321228e-02, 1.13587421e-02,\n",
       "       1.13277724e-02, 1.12784643e-02, 1.11973421e-02, 1.11385032e-02,\n",
       "       1.11156207e-02, 1.10849620e-02, 1.10301595e-02, 1.10197617e-02,\n",
       "       1.10028261e-02, 1.09593390e-02, 1.09003339e-02, 1.08448778e-02,\n",
       "       1.07601945e-02, 1.05829303e-02, 1.05467225e-02, 1.03524721e-02,\n",
       "       1.03389064e-02, 1.01526613e-02, 1.01203325e-02, 9.99203139e-03,\n",
       "       9.89242376e-03, 9.84634898e-03, 9.72928002e-03, 9.68707614e-03,\n",
       "       9.62284104e-03, 9.59732842e-03, 9.57066401e-03, 9.56011405e-03,\n",
       "       9.50518825e-03, 9.48980366e-03, 9.46451128e-03, 9.45479572e-03,\n",
       "       9.45221100e-03, 9.44484810e-03, 9.43188816e-03, 9.43047569e-03,\n",
       "       9.42566975e-03, 9.41704353e-03, 9.41498524e-03, 9.41000792e-03,\n",
       "       9.40222507e-03, 9.39043571e-03, 9.26638412e-03, 9.13102723e-03,\n",
       "       9.04131824e-03, 8.91132414e-03, 8.85179193e-03, 8.74562418e-03,\n",
       "       8.67242449e-03, 8.59614956e-03, 8.46884047e-03, 8.40043562e-03,\n",
       "       8.34248147e-03, 8.27983804e-03, 8.25270015e-03, 8.08852300e-03,\n",
       "       8.06077358e-03, 7.98604263e-03, 7.94886832e-03, 7.66640046e-03,\n",
       "       7.60723130e-03, 7.34516088e-03, 6.98595260e-03, 6.90567206e-03,\n",
       "       6.68763191e-03, 6.59364934e-03, 6.41070623e-03, 6.35139350e-03,\n",
       "       6.33637335e-03, 6.24691260e-03, 6.14553079e-03, 5.98531065e-03,\n",
       "       5.89883262e-03, 5.88559450e-03, 5.65926302e-03, 5.61103685e-03,\n",
       "       5.46093242e-03, 5.18138291e-03, 5.06212206e-03, 4.99324340e-03,\n",
       "       4.28025314e-03, 4.00003470e-03, 3.97495691e-03, 3.87218688e-03,\n",
       "       3.10215005e-03, 3.02778366e-03, 2.95645159e-03, 2.77265391e-03,\n",
       "       2.57017893e-03, 2.39103025e-03, 2.32033537e-03, 2.24833033e-03,\n",
       "       2.16272014e-03, 1.76139686e-03, 1.71858801e-03, 1.61867916e-03,\n",
       "       1.58355938e-03, 1.57051683e-03, 1.56660860e-03, 1.56536067e-03,\n",
       "       1.56520633e-03, 1.56511429e-03, 1.56500118e-03, 1.56493668e-03,\n",
       "       1.56486002e-03, 1.56477801e-03, 1.56466960e-03, 1.56460926e-03,\n",
       "       1.56456984e-03, 1.56452042e-03, 1.56448700e-03, 1.56446588e-03,\n",
       "       1.56435113e-03, 1.56422462e-03, 1.56409334e-03, 1.56404166e-03,\n",
       "       1.56393433e-03, 1.56372217e-03, 1.56353316e-03, 1.56350915e-03,\n",
       "       1.56343790e-03, 1.56330331e-03, 1.56315052e-03, 1.56282786e-03,\n",
       "       1.56281421e-03, 1.56264606e-03, 1.56245364e-03, 1.56239565e-03,\n",
       "       1.56212938e-03, 1.56194325e-03, 1.56179677e-03, 1.56153056e-03,\n",
       "       1.56148664e-03, 1.56132389e-03, 1.56095525e-03, 1.56077636e-03,\n",
       "       1.56061443e-03, 1.56021327e-03, 1.55998559e-03, 1.55944312e-03,\n",
       "       1.55935126e-03, 1.55928745e-03, 1.55864686e-03, 1.55802944e-03,\n",
       "       1.55717388e-03, 1.55680374e-03, 1.55633644e-03, 1.55606484e-03,\n",
       "       1.55582248e-03, 1.55433287e-03, 1.55365080e-03, 1.55267557e-03,\n",
       "       1.55214336e-03, 1.55062850e-03, 1.54986103e-03, 1.54980356e-03,\n",
       "       1.54875419e-03, 1.54716291e-03, 1.54651239e-03, 1.54584823e-03,\n",
       "       1.54303163e-03, 1.54200807e-03, 1.54069383e-03, 1.53825473e-03,\n",
       "       1.53816235e-03, 1.53672958e-03, 1.53420660e-03, 1.52993670e-03,\n",
       "       1.52730541e-03, 1.52440423e-03, 1.52177616e-03, 1.51655337e-03,\n",
       "       1.51352632e-03, 1.50606268e-03, 1.50247791e-03, 1.49909583e-03,\n",
       "       1.49488109e-03, 1.49232322e-03, 1.48761603e-03, 1.48275020e-03,\n",
       "       1.47868545e-03, 1.45777378e-03, 1.45071678e-03, 1.43700855e-03,\n",
       "       1.43233674e-03, 1.39356262e-03, 1.38658356e-03, 1.37930536e-03,\n",
       "       1.30170137e-03, 1.26416541e-03, 1.21354180e-03, 1.18383645e-03,\n",
       "       1.16693060e-03, 1.07719277e-03, 1.06185318e-03, 9.42907944e-04,\n",
       "       5.78911341e-04, 2.70887351e-04, 7.92200847e-05, 2.24956521e-05,\n",
       "       1.29710239e-05, 1.21639187e-32, 8.97380422e-33, 6.99392670e-33,\n",
       "       5.33879499e-33, 5.16589799e-33, 4.31891704e-33, 3.87181508e-33,\n",
       "       3.37783393e-33, 3.08751843e-33, 3.02652155e-33, 1.99717996e-33,\n",
       "       1.97559574e-33, 1.95471179e-33, 1.45564488e-33, 1.35110329e-33,\n",
       "       1.32303941e-33, 1.27836575e-33, 1.24460276e-33, 1.23422798e-33,\n",
       "       1.23422798e-33, 1.18646651e-33, 1.04965060e-33, 9.63416952e-34,\n",
       "       9.55150717e-34, 9.14095717e-34, 8.74766250e-34, 8.43143461e-34,\n",
       "       8.36623581e-34, 8.20440400e-34, 7.86497489e-34, 7.79714443e-34,\n",
       "       7.40323741e-34, 7.06369227e-34, 6.75992489e-34, 6.66728311e-34,\n",
       "       6.41067610e-34, 5.97157914e-34, 5.88265126e-34, 5.64540971e-34,\n",
       "       5.59830932e-34, 5.51842215e-34, 5.19890984e-34, 5.11116878e-34,\n",
       "       5.04873947e-34, 4.89290767e-34, 4.87076489e-34, 4.60574758e-34,\n",
       "       4.27175852e-34, 4.15800203e-34, 4.14617576e-34, 3.70692812e-34,\n",
       "       3.69602091e-34, 3.60995287e-34, 3.53498106e-34, 3.25827921e-34,\n",
       "       3.11317296e-34, 3.08078389e-34, 3.04025107e-34, 3.00775553e-34,\n",
       "       3.00672111e-34, 2.54106030e-34, 2.51869752e-34, 2.42661493e-34,\n",
       "       2.38216540e-34, 2.18694944e-34, 1.99492477e-34, 1.87284807e-34,\n",
       "       1.76526789e-34, 1.53118077e-34, 1.52850648e-34, 1.43632785e-34,\n",
       "       1.26554913e-34, 1.21520209e-34, 1.13415007e-34, 1.08543270e-34,\n",
       "       1.07528987e-34, 1.06968630e-34, 1.06087453e-34, 1.05253016e-34,\n",
       "       1.04477644e-34, 1.01748792e-34, 9.84533366e-35, 9.82131099e-35,\n",
       "       9.61776488e-35, 9.46421037e-35, 9.46421037e-35, 9.46421037e-35,\n",
       "       9.46421037e-35, 9.46421037e-35, 9.46421037e-35, 9.46421037e-35,\n",
       "       9.46421037e-35, 9.46421037e-35, 9.46421037e-35, 9.46421037e-35,\n",
       "       9.46421037e-35, 9.46421037e-35, 9.46421037e-35, 9.46421037e-35,\n",
       "       9.46421037e-35, 9.46421037e-35, 9.46421037e-35, 9.46421037e-35,\n",
       "       9.46421037e-35, 9.46421037e-35, 9.46421037e-35, 9.46421037e-35,\n",
       "       9.46421037e-35, 9.46421037e-35, 9.46421037e-35, 9.46421037e-35,\n",
       "       9.46421037e-35, 9.46421037e-35, 9.46421037e-35, 9.46421037e-35,\n",
       "       9.46421037e-35, 9.46421037e-35, 9.46421037e-35, 9.46421037e-35,\n",
       "       9.46421037e-35, 9.46421037e-35, 9.46421037e-35, 9.46421037e-35,\n",
       "       9.46421037e-35, 9.46421037e-35, 9.46421037e-35, 9.46421037e-35,\n",
       "       9.46421037e-35, 9.46421037e-35, 9.46421037e-35, 9.46421037e-35,\n",
       "       9.46421037e-35, 9.46421037e-35, 9.46421037e-35, 9.46421037e-35,\n",
       "       9.46421037e-35, 9.46421037e-35, 9.46421037e-35, 9.46421037e-35,\n",
       "       9.46421037e-35, 9.46421037e-35, 9.46421037e-35, 9.46421037e-35,\n",
       "       9.46421037e-35, 9.46421037e-35, 9.46421037e-35, 9.46421037e-35,\n",
       "       9.46421037e-35, 9.46421037e-35, 9.46421037e-35, 9.46421037e-35,\n",
       "       9.46421037e-35, 9.46421037e-35, 9.46421037e-35, 9.46421037e-35,\n",
       "       9.46421037e-35, 9.46421037e-35, 9.46421037e-35, 9.46421037e-35,\n",
       "       9.46421037e-35, 9.46421037e-35, 9.46421037e-35, 9.46421037e-35,\n",
       "       9.46421037e-35, 9.46421037e-35, 9.46421037e-35, 9.46421037e-35,\n",
       "       9.46421037e-35, 9.46421037e-35, 9.46421037e-35, 9.46421037e-35,\n",
       "       9.46421037e-35, 9.46421037e-35, 9.46421037e-35, 9.46421037e-35,\n",
       "       9.46421037e-35, 9.46421037e-35, 9.46421037e-35, 9.46421037e-35,\n",
       "       9.46421037e-35, 9.46421037e-35, 9.46421037e-35, 9.46421037e-35,\n",
       "       9.46421037e-35, 9.46421037e-35, 9.46421037e-35, 9.46421037e-35,\n",
       "       9.46421037e-35, 9.46421037e-35, 9.46421037e-35, 9.46421037e-35,\n",
       "       9.46421037e-35, 9.46421037e-35, 9.46421037e-35, 9.46421037e-35,\n",
       "       9.46421037e-35, 9.46421037e-35, 9.46421037e-35, 9.46421037e-35,\n",
       "       9.46421037e-35, 9.46421037e-35, 9.46421037e-35, 9.46421037e-35,\n",
       "       9.46421037e-35, 9.46421037e-35, 9.46421037e-35, 9.46421037e-35,\n",
       "       9.46421037e-35, 9.46421037e-35, 9.46421037e-35, 9.46421037e-35,\n",
       "       9.46421037e-35, 9.46421037e-35, 9.46421037e-35, 9.46421037e-35,\n",
       "       9.46421037e-35, 9.46421037e-35, 9.46421037e-35, 9.46421037e-35,\n",
       "       9.46421037e-35, 9.46421037e-35, 9.46421037e-35, 9.46421037e-35,\n",
       "       9.46421037e-35, 9.46421037e-35, 9.46421037e-35, 9.46421037e-35,\n",
       "       9.46421037e-35, 9.46421037e-35, 9.46421037e-35, 9.46421037e-35,\n",
       "       9.46421037e-35, 9.46421037e-35, 9.46421037e-35, 9.46421037e-35,\n",
       "       9.46421037e-35, 9.46421037e-35, 9.46421037e-35, 9.46421037e-35,\n",
       "       9.46421037e-35, 9.46421037e-35, 9.46421037e-35, 9.46421037e-35,\n",
       "       9.46421037e-35, 9.46421037e-35, 9.46421037e-35, 9.46421037e-35,\n",
       "       9.46421037e-35, 9.46421037e-35, 9.46421037e-35, 9.46421037e-35,\n",
       "       9.46421037e-35, 9.46421037e-35, 9.46421037e-35, 9.46421037e-35,\n",
       "       9.46421037e-35, 9.46421037e-35, 9.46421037e-35, 9.46421037e-35,\n",
       "       9.46421037e-35, 9.46421037e-35, 9.46421037e-35, 9.46421037e-35,\n",
       "       9.46421037e-35, 9.46421037e-35, 9.46421037e-35, 9.46421037e-35,\n",
       "       9.46421037e-35, 9.46421037e-35, 9.46421037e-35, 9.46421037e-35,\n",
       "       9.46421037e-35, 9.46421037e-35, 9.46421037e-35, 9.46421037e-35,\n",
       "       9.46421037e-35, 9.46421037e-35, 9.46421037e-35, 9.46421037e-35,\n",
       "       9.46421037e-35, 9.46421037e-35, 9.46421037e-35, 9.46421037e-35,\n",
       "       9.46421037e-35, 9.46421037e-35, 9.46421037e-35, 9.46421037e-35,\n",
       "       9.46421037e-35, 9.46421037e-35, 9.46421037e-35, 9.46421037e-35,\n",
       "       9.46421037e-35, 9.46421037e-35, 9.46421037e-35, 9.46421037e-35,\n",
       "       9.46421037e-35, 9.46421037e-35, 9.46421037e-35, 9.46421037e-35,\n",
       "       9.46421037e-35, 9.46421037e-35, 9.46421037e-35, 9.46421037e-35,\n",
       "       9.46421037e-35, 9.46421037e-35, 9.46421037e-35, 9.46421037e-35,\n",
       "       9.46421037e-35, 9.46421037e-35, 9.46421037e-35, 9.46421037e-35,\n",
       "       9.46421037e-35, 9.46421037e-35, 9.46421037e-35, 9.46421037e-35,\n",
       "       9.46421037e-35, 9.46421037e-35, 9.46421037e-35, 9.46421037e-35,\n",
       "       9.46421037e-35, 9.46421037e-35, 9.46421037e-35, 9.46421037e-35,\n",
       "       9.46421037e-35, 9.46421037e-35, 9.46421037e-35, 9.46421037e-35,\n",
       "       9.46421037e-35, 9.46421037e-35, 9.46421037e-35, 9.46421037e-35,\n",
       "       9.46421037e-35, 9.46421037e-35, 9.46421037e-35, 9.46421037e-35,\n",
       "       9.46421037e-35, 9.46421037e-35, 9.46421037e-35, 9.46421037e-35,\n",
       "       9.46421037e-35, 9.46421037e-35, 9.46421037e-35, 9.46421037e-35,\n",
       "       9.46421037e-35, 9.46421037e-35, 9.46421037e-35, 9.46421037e-35,\n",
       "       9.46421037e-35, 9.46421037e-35, 9.46421037e-35, 9.46421037e-35,\n",
       "       9.46421037e-35, 9.46421037e-35, 9.46421037e-35, 9.46421037e-35,\n",
       "       9.46421037e-35, 9.46421037e-35, 9.46421037e-35, 9.46421037e-35,\n",
       "       9.46421037e-35, 9.46421037e-35, 9.46421037e-35, 9.46421037e-35,\n",
       "       9.46421037e-35, 9.46421037e-35, 9.46421037e-35, 9.46421037e-35,\n",
       "       9.46421037e-35, 9.46421037e-35, 9.46421037e-35, 9.46421037e-35,\n",
       "       9.46421037e-35, 9.46421037e-35, 9.46421037e-35, 9.46421037e-35,\n",
       "       9.46421037e-35, 9.46421037e-35, 9.46421037e-35, 9.46421037e-35,\n",
       "       9.46421037e-35, 9.46421037e-35, 9.46421037e-35, 9.46421037e-35,\n",
       "       9.46421037e-35, 9.46421037e-35, 9.46421037e-35, 9.46421037e-35,\n",
       "       9.46421037e-35, 9.46421037e-35, 9.46421037e-35, 9.46421037e-35,\n",
       "       9.46421037e-35, 9.46421037e-35, 9.46421037e-35, 9.46421037e-35,\n",
       "       9.46421037e-35, 9.46421037e-35, 9.46421037e-35, 9.46421037e-35,\n",
       "       9.46421037e-35, 9.46421037e-35, 9.46421037e-35, 9.46421037e-35,\n",
       "       9.46421037e-35, 9.46421037e-35, 9.46421037e-35, 9.46421037e-35,\n",
       "       9.46421037e-35, 9.46421037e-35, 9.46421037e-35, 9.46421037e-35,\n",
       "       9.46421037e-35, 9.46421037e-35, 9.46421037e-35, 9.46421037e-35,\n",
       "       9.46421037e-35, 9.46421037e-35, 9.46421037e-35, 7.96427934e-35,\n",
       "       7.55244287e-35, 6.08773441e-35, 5.65016436e-35, 5.23893104e-35,\n",
       "       4.82160696e-35, 4.04234659e-35, 3.81260155e-35, 3.65629199e-35,\n",
       "       2.46383709e-35, 1.82437436e-35, 1.49080226e-35, 1.39893232e-35,\n",
       "       1.27415832e-35, 9.59349522e-36, 5.12632553e-36, 1.79771683e-36,\n",
       "       9.44062393e-37])"
      ]
     },
     "execution_count": 288,
     "metadata": {},
     "output_type": "execute_result"
    }
   ],
   "source": [
    "# Checking the explained variance ratio array generated by the PCA fit\n",
    "pca_n.explained_variance_ratio_"
   ]
  },
  {
   "cell_type": "code",
   "execution_count": 289,
   "metadata": {},
   "outputs": [],
   "source": [
    "# calculating cumulative explained variance ratio\n",
    "var_explained = pca_n.explained_variance_ratio_\n",
    "cum_var_exp = np.cumsum(var_explained)"
   ]
  },
  {
   "cell_type": "code",
   "execution_count": 290,
   "metadata": {},
   "outputs": [
    {
     "data": {
      "image/png": "[encoded data removed]",
      "text/plain": [
       "<Figure size 640x480 with 1 Axes>"
      ]
     },
     "metadata": {},
     "output_type": "display_data"
    }
   ],
   "source": [
    "# ploting a bar graph and step graph to between n_components and cumulative explained variance ratio\n",
    "n = len(pca_n.explained_variance_ratio_)\n",
    "plt.bar(range(1,n+1), var_explained, alpha = 0.5, align = 'center', label = 'individual variance explained')\n",
    "plt.step(range(1, n+1), cum_var_exp, where = 'mid', label = 'cumulative explained variance')\n",
    "plt.ylabel('Explained Variance Ratio')\n",
    "plt.xlabel('Principal Components')\n",
    "plt.legend(loc = 'best')\n",
    "plt.show()"
   ]
  },
  {
   "cell_type": "markdown",
   "metadata": {},
   "source": [
    "### 2. In how many components we are getting approximately 90% of explained Variance."
   ]
  },
  {
   "cell_type": "code",
   "execution_count": 291,
   "metadata": {},
   "outputs": [
    {
     "name": "stdout",
     "output_type": "stream",
     "text": [
      "137 0.9013586005914469\n"
     ]
    }
   ],
   "source": [
    "# calculating the the minimum number of components required which can get approximately 90% explained variance\n",
    "sum = 0\n",
    "n = len(var_explained)\n",
    "for i in range(0, n):\n",
    "    sum += var_explained[i]\n",
    "    if sum >= 0.9:\n",
    "        break\n",
    "print(i, sum)\n",
    "    "
   ]
  },
  {
   "cell_type": "markdown",
   "metadata": {},
   "source": [
    "*From the previous graph we can see that for some where between 100 and 200 components the cumulative explained variance is crossing 90%.\n",
    "To calculate the exact number of components required through which 90% of variance can be explained, I used the code in the above cell. It is showing that with 137 components, we can cover the variance above 90%.* \n",
    "<br>\n",
    "**Hence the required number of components = 137**"
   ]
  },
  {
   "cell_type": "markdown",
   "metadata": {},
   "source": [
    "# D) LDA."
   ]
  },
  {
   "cell_type": "markdown",
   "metadata": {},
   "source": [
    "### 1. Split the dataset into two parts (i.e. 80% train and 20% test) using random_state=42. "
   ]
  },
  {
   "cell_type": "code",
   "execution_count": 292,
   "metadata": {},
   "outputs": [],
   "source": [
    "X = x_dum_std\n",
    "Y = np.asarray(y)"
   ]
  },
  {
   "cell_type": "code",
   "execution_count": 293,
   "metadata": {},
   "outputs": [],
   "source": [
    "X_train, X_test, Y_train, Y_test = train_test_split(X, Y, test_size=0.2, random_state=42)"
   ]
  },
  {
   "cell_type": "code",
   "execution_count": 294,
   "metadata": {},
   "outputs": [
    {
     "name": "stdout",
     "output_type": "stream",
     "text": [
      "(2258, 645)\n",
      "(2258,)\n"
     ]
    }
   ],
   "source": [
    "print(X_train.shape)\n",
    "print(Y_train.shape)"
   ]
  },
  {
   "cell_type": "code",
   "execution_count": 295,
   "metadata": {},
   "outputs": [
    {
     "name": "stdout",
     "output_type": "stream",
     "text": [
      "(565, 645)\n",
      "(565,)\n"
     ]
    }
   ],
   "source": [
    "print(X_test.shape)\n",
    "print(Y_test.shape)"
   ]
  },
  {
   "cell_type": "markdown",
   "metadata": {},
   "source": [
    "### 2. Train a Linear Discriminant Analysis(LDA) model on the train data. Do fit_transform on the train data and only transform on the test data. Use n_components=1."
   ]
  },
  {
   "cell_type": "code",
   "execution_count": 296,
   "metadata": {},
   "outputs": [],
   "source": [
    "lda = LinearDiscriminantAnalysis(n_components = 1)\n",
    "X_train = lda.fit_transform(X_train, Y_train)\n",
    "X_test = lda.transform(X_test)"
   ]
  },
  {
   "cell_type": "markdown",
   "metadata": {},
   "source": [
    "### 3. Train a RandomForest classifier model on the transformed train and test data. Print the accuracy score. "
   ]
  },
  {
   "cell_type": "code",
   "execution_count": 297,
   "metadata": {},
   "outputs": [],
   "source": [
    "# Training the RandomForestClassifier model on transformed train and test data\n",
    "classifier = RandomForestClassifier()\n",
    "classifier.fit(X_train, Y_train)\n",
    "Y_pred = classifier.predict(X_test)"
   ]
  },
  {
   "cell_type": "code",
   "execution_count": 298,
   "metadata": {},
   "outputs": [
    {
     "name": "stdout",
     "output_type": "stream",
     "text": [
      "Accuracy Score:  0.9026548672566371\n"
     ]
    }
   ],
   "source": [
    "# Printing the Accuracy Score\n",
    "print('Accuracy Score: ',accuracy_score(Y_test, Y_pred))"
   ]
  },
  {
   "cell_type": "markdown",
   "metadata": {},
   "source": [
    "**Hence we got an accuracy of 90.26% in predicting which of the products has been shipped and which of the products has been cancelled using the LDA model**"
   ]
  },
  {
   "cell_type": "code",
   "execution_count": null,
   "metadata": {},
   "outputs": [],
   "source": []
  }
 ],
 "metadata": {
  "kernelspec": {
   "display_name": "Python 3 (ipykernel)",
   "language": "python",
   "name": "python3"
  },
  "language_info": {
   "codemirror_mode": {
    "name": "ipython",
    "version": 3
   },
   "file_extension": ".py",
   "mimetype": "text/x-python",
   "name": "python",
   "nbconvert_exporter": "python",
   "pygments_lexer": "ipython3",
   "version": "3.10.13"
  }
 },
 "nbformat": 4,
 "nbformat_minor": 2
}
